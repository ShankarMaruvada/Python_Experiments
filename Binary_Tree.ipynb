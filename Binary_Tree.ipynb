{
 "cells": [
  {
   "cell_type": "code",
   "execution_count": 1,
   "metadata": {
    "collapsed": true
   },
   "outputs": [],
   "source": [
    "class Node:\n",
    "    def __init__(self,val):\n",
    "        self.l = None\n",
    "        self.r = None\n",
    "        self.v = val"
   ]
  },
  {
   "cell_type": "code",
   "execution_count": 2,
   "metadata": {
    "collapsed": false
   },
   "outputs": [],
   "source": [
    "array_nodes = []\n",
    "\n",
    "class Tree:\n",
    "    \n",
    "    def __init__(self):\n",
    "        self.root = None\n",
    "\n",
    "    def getRoot(self):\n",
    "        return self.root\n",
    "\n",
    "    #Creates a new node / adds a child node\n",
    "    def add(self, val):\n",
    "        if(self.root == None):\n",
    "            self.root = Node(val)\n",
    "        else:\n",
    "            self._add(val, self.root)\n",
    "\n",
    "    def _add(self, val, node):\n",
    "        if(val < node.v):\n",
    "            if(node.l != None):\n",
    "                self._add(val, node.l)\n",
    "            else:\n",
    "                node.l = Node(val)\n",
    "        else:\n",
    "            if(node.r != None):\n",
    "                self._add(val, node.r)\n",
    "            else:\n",
    "                node.r = Node(val)\n",
    "    \n",
    "    #Deletes the whole tree\n",
    "    def delete_tree(self): \n",
    "        self.root = None\n",
    "    \n",
    "    #To print righ child\n",
    "    def get_right_child(self):\n",
    "        if(self.root == None):\n",
    "            return None\n",
    "        else:\n",
    "            self._get_right(self.root)\n",
    "    \n",
    "    def _get_right(self, node):\n",
    "        if(node.r != None):\n",
    "            print (node.r).v\n",
    "        else:\n",
    "            return None\n",
    "        \n",
    "    #To print left child\n",
    "    def get_left_child(self):\n",
    "        if(self.root == None):\n",
    "            return None\n",
    "        else:\n",
    "            self._get_left(self.root)\n",
    "    \n",
    "    def _get_left(self, node):\n",
    "        if(node.l != None):\n",
    "            print (node.l).v\n",
    "        else:\n",
    "            return None\n",
    "        \n",
    "    #To print the tree\n",
    "    def print_tree(self):\n",
    "        if(self.root != None):\n",
    "            self._print_tree(self.root)\n",
    "    \n",
    "    \n",
    "    def _print_tree(self, node):\n",
    "        if(node != None):\n",
    "            self._print_tree(node.l)\n",
    "            array_nodes.append(node.v)\n",
    "            print '\\t' + str(node.v) + '\\n'\n",
    "            self._print_tree(node.r)\n",
    "    \n",
    "    def replace_root(self,val):\n",
    "        array_nodes.remove(self.root.v)\n",
    "        tree.delete_tree()\n",
    "        new_tree = Tree()\n",
    "        new_tree.add(val)\n",
    "        for each  in array_nodes:\n",
    "            new_tree.add(each)\n",
    "        return new_tree"
   ]
  },
  {
   "cell_type": "code",
   "execution_count": 3,
   "metadata": {
    "collapsed": false,
    "scrolled": false
   },
   "outputs": [
    {
     "name": "stdout",
     "output_type": "stream",
     "text": [
      "\t0\n",
      "\n",
      "\t2\n",
      "\n",
      "\t3\n",
      "\n",
      "\t4\n",
      "\n",
      "\t8\n",
      "\n",
      "0\n",
      "4\n"
     ]
    }
   ],
   "source": [
    "tree = Tree()\n",
    "tree.add(3)\n",
    "tree.add(4)\n",
    "tree.add(0)\n",
    "tree.add(8)\n",
    "tree.add(2)\n",
    "tree.print_tree()\n",
    "tree.get_left_child()\n",
    "tree.get_right_child()\n"
   ]
  },
  {
   "cell_type": "code",
   "execution_count": 4,
   "metadata": {
    "collapsed": false
   },
   "outputs": [
    {
     "data": {
      "text/plain": [
       "[0, 2, 3, 4, 8]"
      ]
     },
     "execution_count": 4,
     "metadata": {},
     "output_type": "execute_result"
    }
   ],
   "source": [
    "array_nodes"
   ]
  },
  {
   "cell_type": "code",
   "execution_count": 6,
   "metadata": {
    "collapsed": false
   },
   "outputs": [],
   "source": [
    "new = tree.replace_root(5)"
   ]
  },
  {
   "cell_type": "code",
   "execution_count": 8,
   "metadata": {
    "collapsed": false
   },
   "outputs": [
    {
     "name": "stdout",
     "output_type": "stream",
     "text": [
      "\t0\n",
      "\n",
      "\t2\n",
      "\n",
      "\t4\n",
      "\n",
      "\t5\n",
      "\n",
      "\t8\n",
      "\n",
      "0\n",
      "8\n"
     ]
    },
    {
     "data": {
      "text/plain": [
       "5"
      ]
     },
     "execution_count": 8,
     "metadata": {},
     "output_type": "execute_result"
    }
   ],
   "source": [
    "new.print_tree()\n",
    "new.get_left_child()\n",
    "new.get_right_child()\n",
    "new.getRoot().v"
   ]
  }
 ],
 "metadata": {
  "kernelspec": {
   "display_name": "Python 2",
   "language": "python",
   "name": "python2"
  },
  "language_info": {
   "codemirror_mode": {
    "name": "ipython",
    "version": 2
   },
   "file_extension": ".py",
   "mimetype": "text/x-python",
   "name": "python",
   "nbconvert_exporter": "python",
   "pygments_lexer": "ipython2",
   "version": "2.7.13"
  }
 },
 "nbformat": 4,
 "nbformat_minor": 2
}
